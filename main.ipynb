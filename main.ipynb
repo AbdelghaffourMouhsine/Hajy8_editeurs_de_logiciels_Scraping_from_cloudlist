{
 "cells": [
  {
   "cell_type": "code",
   "execution_count": 1,
   "id": "81260cf0-048f-41da-8fa7-68cbb1ecfecb",
   "metadata": {},
   "outputs": [],
   "source": [
    "from ItemScraping import ItemScraping\n",
    "from Item import EditeurLogiciels\n",
    "from ItemStorage import ItemStorage\n",
    "\n",
    "itemScraping = ItemScraping(url='https://www.cloudlist.fr/annuaire/?categories=73')\n",
    "self = itemScraping\n",
    "\n",
    "self.driver.get(self.url)"
   ]
  },
  {
   "cell_type": "code",
   "execution_count": 3,
   "id": "8c4cfaff-7188-4b3f-94df-fae2404e6747",
   "metadata": {},
   "outputs": [],
   "source": []
  },
  {
   "cell_type": "code",
   "execution_count": 5,
   "id": "a90d544b-9ef1-4b57-940b-c745ced09921",
   "metadata": {},
   "outputs": [
    {
     "name": "stdout",
     "output_type": "stream",
     "text": [
      "yeeeees : 'show_more_results_button' is clecked.......\n",
      "yeeeees : 'show_more_results_button' is clecked.......\n",
      "yeeeees : 'show_more_results_button' is clecked.......\n"
     ]
    }
   ],
   "source": [
    "import time, random\n",
    "\n",
    "def scroll_down(self, button_path_to_show_more_results=None, button_text_to_show_more_results=None, bottom_distance=0):\n",
    "        # bottom_distance => distance between the bottom of the page and the More results button\n",
    "    \n",
    "        last_height = self.driver.execute_script(\"return document.body.scrollHeight\")\n",
    "        second_check = False\n",
    "        while True:\n",
    "            # Scroll down to bottom\n",
    "            self.driver.execute_script(f\"window.scrollTo(0, document.body.scrollHeight  - {bottom_distance});\")\n",
    "            # Calculate new scroll height and compare with total scroll height\n",
    "            new_height = self.driver.execute_script(\"return document.body.scrollHeight\")\n",
    "            # Wait to load page\n",
    "            time.sleep(random.uniform(4, 5))\n",
    "            if new_height == last_height:\n",
    "                \n",
    "                temp = False\n",
    "                if not temp:\n",
    "                    if button_text_to_show_more_results in str(self.get_element('//body')['data'].get_attribute('innerText')).lower():\n",
    "                        show_more_results_button = self.get_element(button_path_to_show_more_results, group=True, innerTextLower=button_text_to_show_more_results)\n",
    "                        if show_more_results_button[\"status\"]:\n",
    "                            show_more_results_button = show_more_results_button[\"data\"]\n",
    "                            self.click_elem(show_more_results_button)\n",
    "                            temp = True\n",
    "                            print(\"yeeeees : 'show_more_results_button' is clecked.......\")\n",
    "                            # Wait to load page\n",
    "                            time.sleep(random.uniform(4, 5))\n",
    "                if second_check and not temp:\n",
    "                    break\n",
    "                    \n",
    "                if not temp:\n",
    "                    second_check = True\n",
    "                time.sleep(random.uniform(1.5,2.5))\n",
    "\n",
    "            last_height = new_height\n",
    "\n",
    "scroll_down(self,button_path_to_show_more_results='//button', button_text_to_show_more_results='show more listings', bottom_distance=2000)"
   ]
  },
  {
   "cell_type": "code",
   "execution_count": 7,
   "id": "d2821058-2dcb-48de-b4d0-e750e28bc745",
   "metadata": {},
   "outputs": [],
   "source": [
    "def extract_editeur_de_logiciels_from_article(self, article):\n",
    "        dict = {}\n",
    "        a_elem = self.get_element('div[2]/header/h2/a', from_elem=article)\n",
    "        if a_elem['status']:\n",
    "            a_elem = a_elem['data']\n",
    "            dict['name'] = a_elem.get_attribute('innerText')\n",
    "            dict['more_inf_url'] = a_elem.get_attribute('href')\n",
    "\n",
    "        address_elem = self.get_element('div[2]/div[1]/span[2]/address/span/span[1]', from_elem=article)\n",
    "        if address_elem['status']:\n",
    "            address_elem = address_elem['data']\n",
    "            dict['address'] = address_elem.get_attribute('innerText')\n",
    "\n",
    "        tele_elem = self.get_element('div[2]/div[3]/span[2]/a', from_elem=article)\n",
    "        if tele_elem['status']:\n",
    "            tele_elem = tele_elem['data']\n",
    "            dict['tele'] = tele_elem.get_attribute('innerText')\n",
    "        \n",
    "        return dict"
   ]
  },
  {
   "cell_type": "code",
   "execution_count": 13,
   "id": "79a27d19-eb2a-4812-9520-1c3af3181af0",
   "metadata": {},
   "outputs": [
    {
     "name": "stdout",
     "output_type": "stream",
     "text": [
      "191\n"
     ]
    }
   ],
   "source": [
    "def extract_editeurs_de_logiciels(self):\n",
    "\n",
    "        editeurs_articles = self.get_element('//div[@class=\"w2dc-listings-block-content\"]/article', group=True)\n",
    "        if editeurs_articles['status'] :\n",
    "            editeurs_articles = editeurs_articles['data']\n",
    "            print(len(editeurs_articles))\n",
    "            editeurs = []\n",
    "            for i, article in enumerate(editeurs_articles):\n",
    "                editeur_dict = extract_editeur_de_logiciels_from_article(self, article)\n",
    "                editeur_dict['index'] = i\n",
    "                editeur = EditeurLogiciels()\n",
    "                editeur.init_from_dict(editeur_dict)\n",
    "                editeurs.append(editeur)\n",
    "                \n",
    "            ItemStorage(file_path='./results/editeurs_de_logiciels.csv', value=editeurs)\n",
    "        else:\n",
    "            print(editeurs_articles['data'])\n",
    "            \n",
    "extract_editeurs_de_logiciels(self)"
   ]
  },
  {
   "cell_type": "code",
   "execution_count": null,
   "id": "dc7b4d33-690d-47d2-8fdc-18fed6c3384d",
   "metadata": {},
   "outputs": [],
   "source": []
  }
 ],
 "metadata": {
  "kernelspec": {
   "display_name": "Python 3 (ipykernel)",
   "language": "python",
   "name": "python3"
  },
  "language_info": {
   "codemirror_mode": {
    "name": "ipython",
    "version": 3
   },
   "file_extension": ".py",
   "mimetype": "text/x-python",
   "name": "python",
   "nbconvert_exporter": "python",
   "pygments_lexer": "ipython3",
   "version": "3.12.4"
  }
 },
 "nbformat": 4,
 "nbformat_minor": 5
}
